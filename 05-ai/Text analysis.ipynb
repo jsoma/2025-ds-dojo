{
 "cells": [
  {
   "cell_type": "code",
   "execution_count": 2,
   "id": "04b43bed",
   "metadata": {},
   "outputs": [
    {
     "name": "stdout",
     "output_type": "stream",
     "text": [
      "\r\n",
      "\u001b[1m[\u001b[0m\u001b[34;49mnotice\u001b[0m\u001b[1;39;49m]\u001b[0m\u001b[39;49m A new release of pip is available: \u001b[0m\u001b[31;49m23.0.1\u001b[0m\u001b[39;49m -> \u001b[0m\u001b[32;49m24.2\u001b[0m\r\n",
      "\u001b[1m[\u001b[0m\u001b[34;49mnotice\u001b[0m\u001b[1;39;49m]\u001b[0m\u001b[39;49m To update, run: \u001b[0m\u001b[32;49mpip install --upgrade pip\u001b[0m\r\n"
     ]
    }
   ],
   "source": [
    "!pip install --quiet spacy"
   ]
  },
  {
   "cell_type": "code",
   "execution_count": 3,
   "id": "1cb44803",
   "metadata": {},
   "outputs": [
    {
     "name": "stdout",
     "output_type": "stream",
     "text": [
      "Collecting ja-core-news-trf==3.7.2\n",
      "  Downloading https://github.com/explosion/spacy-models/releases/download/ja_core_news_trf-3.7.2/ja_core_news_trf-3.7.2-py3-none-any.whl (335.7 MB)\n",
      "\u001b[2K     \u001b[90m\u2501\u2501\u2501\u2501\u2501\u2501\u2501\u2501\u2501\u2501\u2501\u2501\u2501\u2501\u2501\u2501\u2501\u2501\u2501\u2501\u2501\u2501\u2501\u2501\u2501\u2501\u2501\u2501\u2501\u2501\u2501\u2501\u2501\u2501\u2501\u2501\u2501\u2501\u2501\u001b[0m \u001b[32m335.7/335.7 MB\u001b[0m \u001b[31m6.4 MB/s\u001b[0m eta \u001b[36m0:00:00\u001b[0m00:01\u001b[0m00:02\u001b[0m\n",
      "\u001b[?25hCollecting spacy-curated-transformers<0.3.0,>=0.2.0\n",
      "  Using cached spacy_curated_transformers-0.2.2-py2.py3-none-any.whl (236 kB)\n",
      "Requirement already satisfied: sudachipy!=0.6.1,>=0.5.2 in /Users/soma/.pyenv/versions/3.10.13/lib/python3.10/site-packages (from ja-core-news-trf==3.7.2) (0.6.8)\n",
      "Requirement already satisfied: sudachidict-core>=20211220 in /Users/soma/.pyenv/versions/3.10.13/lib/python3.10/site-packages (from ja-core-news-trf==3.7.2) (20240409)\n",
      "Requirement already satisfied: spacy<3.8.0,>=3.7.0 in /Users/soma/.pyenv/versions/3.10.13/lib/python3.10/site-packages (from ja-core-news-trf==3.7.2) (3.7.4)\n",
      "Requirement already satisfied: tqdm<5.0.0,>=4.38.0 in /Users/soma/.pyenv/versions/3.10.13/lib/python3.10/site-packages (from spacy<3.8.0,>=3.7.0->ja-core-news-trf==3.7.2) (4.66.5)\n",
      "Requirement already satisfied: langcodes<4.0.0,>=3.2.0 in /Users/soma/.pyenv/versions/3.10.13/lib/python3.10/site-packages (from spacy<3.8.0,>=3.7.0->ja-core-news-trf==3.7.2) (3.3.0)\n",
      "Requirement already satisfied: srsly<3.0.0,>=2.4.3 in /Users/soma/.pyenv/versions/3.10.13/lib/python3.10/site-packages (from spacy<3.8.0,>=3.7.0->ja-core-news-trf==3.7.2) (2.4.8)\n",
      "Requirement already satisfied: jinja2 in /Users/soma/.pyenv/versions/3.10.13/lib/python3.10/site-packages (from spacy<3.8.0,>=3.7.0->ja-core-news-trf==3.7.2) (3.1.3)\n",
      "Requirement already satisfied: murmurhash<1.1.0,>=0.28.0 in /Users/soma/.pyenv/versions/3.10.13/lib/python3.10/site-packages (from spacy<3.8.0,>=3.7.0->ja-core-news-trf==3.7.2) (1.0.10)\n",
      "Requirement already satisfied: numpy>=1.19.0 in /Users/soma/.pyenv/versions/3.10.13/lib/python3.10/site-packages (from spacy<3.8.0,>=3.7.0->ja-core-news-trf==3.7.2) (1.26.4)\n",
      "Requirement already satisfied: packaging>=20.0 in /Users/soma/.pyenv/versions/3.10.13/lib/python3.10/site-packages (from spacy<3.8.0,>=3.7.0->ja-core-news-trf==3.7.2) (24.0)\n",
      "Requirement already satisfied: spacy-loggers<2.0.0,>=1.0.0 in /Users/soma/.pyenv/versions/3.10.13/lib/python3.10/site-packages (from spacy<3.8.0,>=3.7.0->ja-core-news-trf==3.7.2) (1.0.5)\n",
      "Requirement already satisfied: pydantic!=1.8,!=1.8.1,<3.0.0,>=1.7.4 in /Users/soma/.pyenv/versions/3.10.13/lib/python3.10/site-packages (from spacy<3.8.0,>=3.7.0->ja-core-news-trf==3.7.2) (2.9.2)\n",
      "Requirement already satisfied: setuptools in /Users/soma/.pyenv/versions/3.10.13/lib/python3.10/site-packages (from spacy<3.8.0,>=3.7.0->ja-core-news-trf==3.7.2) (69.2.0)\n",
      "Requirement already satisfied: cymem<2.1.0,>=2.0.2 in /Users/soma/.pyenv/versions/3.10.13/lib/python3.10/site-packages (from spacy<3.8.0,>=3.7.0->ja-core-news-trf==3.7.2) (2.0.8)\n",
      "Requirement already satisfied: spacy-legacy<3.1.0,>=3.0.11 in /Users/soma/.pyenv/versions/3.10.13/lib/python3.10/site-packages (from spacy<3.8.0,>=3.7.0->ja-core-news-trf==3.7.2) (3.0.12)\n",
      "Requirement already satisfied: smart-open<7.0.0,>=5.2.1 in /Users/soma/.pyenv/versions/3.10.13/lib/python3.10/site-packages (from spacy<3.8.0,>=3.7.0->ja-core-news-trf==3.7.2) (6.4.0)\n",
      "Requirement already satisfied: catalogue<2.1.0,>=2.0.6 in /Users/soma/.pyenv/versions/3.10.13/lib/python3.10/site-packages (from spacy<3.8.0,>=3.7.0->ja-core-news-trf==3.7.2) (2.0.10)\n",
      "Requirement already satisfied: thinc<8.3.0,>=8.2.2 in /Users/soma/.pyenv/versions/3.10.13/lib/python3.10/site-packages (from spacy<3.8.0,>=3.7.0->ja-core-news-trf==3.7.2) (8.2.3)\n",
      "Requirement already satisfied: typer<0.10.0,>=0.3.0 in /Users/soma/.pyenv/versions/3.10.13/lib/python3.10/site-packages (from spacy<3.8.0,>=3.7.0->ja-core-news-trf==3.7.2) (0.9.4)\n",
      "Requirement already satisfied: weasel<0.4.0,>=0.1.0 in /Users/soma/.pyenv/versions/3.10.13/lib/python3.10/site-packages (from spacy<3.8.0,>=3.7.0->ja-core-news-trf==3.7.2) (0.3.4)\n",
      "Requirement already satisfied: requests<3.0.0,>=2.13.0 in /Users/soma/.pyenv/versions/3.10.13/lib/python3.10/site-packages (from spacy<3.8.0,>=3.7.0->ja-core-news-trf==3.7.2) (2.31.0)\n",
      "Requirement already satisfied: wasabi<1.2.0,>=0.9.1 in /Users/soma/.pyenv/versions/3.10.13/lib/python3.10/site-packages (from spacy<3.8.0,>=3.7.0->ja-core-news-trf==3.7.2) (1.1.2)\n",
      "Requirement already satisfied: preshed<3.1.0,>=3.0.2 in /Users/soma/.pyenv/versions/3.10.13/lib/python3.10/site-packages (from spacy<3.8.0,>=3.7.0->ja-core-news-trf==3.7.2) (3.0.9)\n",
      "Collecting curated-transformers<0.2.0,>=0.1.0\n",
      "  Using cached curated_transformers-0.1.1-py2.py3-none-any.whl (25 kB)\n",
      "Requirement already satisfied: torch>=1.12.0 in /Users/soma/.pyenv/versions/3.10.13/lib/python3.10/site-packages (from spacy-curated-transformers<0.3.0,>=0.2.0->ja-core-news-trf==3.7.2) (2.2.1)\n",
      "Collecting curated-tokenizers<0.1.0,>=0.0.9\n",
      "  Downloading curated_tokenizers-0.0.9-cp310-cp310-macosx_11_0_arm64.whl (702 kB)\n",
      "\u001b[2K     \u001b[90m\u2501\u2501\u2501\u2501\u2501\u2501\u2501\u2501\u2501\u2501\u2501\u2501\u2501\u2501\u2501\u2501\u2501\u2501\u2501\u2501\u2501\u2501\u2501\u2501\u2501\u2501\u2501\u2501\u2501\u2501\u2501\u2501\u2501\u2501\u2501\u2501\u2501\u2501\u2501\u001b[0m \u001b[32m702.9/702.9 kB\u001b[0m \u001b[31m2.4 MB/s\u001b[0m eta \u001b[36m0:00:00\u001b[0ma \u001b[36m0:00:01\u001b[0m\n",
      "\u001b[?25hRequirement already satisfied: regex>=2022 in /Users/soma/.pyenv/versions/3.10.13/lib/python3.10/site-packages (from curated-tokenizers<0.1.0,>=0.0.9->spacy-curated-transformers<0.3.0,>=0.2.0->ja-core-news-trf==3.7.2) (2023.12.25)\n",
      "Requirement already satisfied: annotated-types>=0.6.0 in /Users/soma/.pyenv/versions/3.10.13/lib/python3.10/site-packages (from pydantic!=1.8,!=1.8.1,<3.0.0,>=1.7.4->spacy<3.8.0,>=3.7.0->ja-core-news-trf==3.7.2) (0.6.0)\n",
      "Requirement already satisfied: pydantic-core==2.23.4 in /Users/soma/.pyenv/versions/3.10.13/lib/python3.10/site-packages (from pydantic!=1.8,!=1.8.1,<3.0.0,>=1.7.4->spacy<3.8.0,>=3.7.0->ja-core-news-trf==3.7.2) (2.23.4)\n",
      "Requirement already satisfied: typing-extensions>=4.6.1 in /Users/soma/.pyenv/versions/3.10.13/lib/python3.10/site-packages (from pydantic!=1.8,!=1.8.1,<3.0.0,>=1.7.4->spacy<3.8.0,>=3.7.0->ja-core-news-trf==3.7.2) (4.12.2)\n",
      "Requirement already satisfied: idna<4,>=2.5 in /Users/soma/.pyenv/versions/3.10.13/lib/python3.10/site-packages (from requests<3.0.0,>=2.13.0->spacy<3.8.0,>=3.7.0->ja-core-news-trf==3.7.2) (3.6)\n",
      "Requirement already satisfied: certifi>=2017.4.17 in /Users/soma/.pyenv/versions/3.10.13/lib/python3.10/site-packages (from requests<3.0.0,>=2.13.0->spacy<3.8.0,>=3.7.0->ja-core-news-trf==3.7.2) (2024.2.2)\n",
      "Requirement already satisfied: charset-normalizer<4,>=2 in /Users/soma/.pyenv/versions/3.10.13/lib/python3.10/site-packages (from requests<3.0.0,>=2.13.0->spacy<3.8.0,>=3.7.0->ja-core-news-trf==3.7.2) (3.3.2)\n",
      "Requirement already satisfied: urllib3<3,>=1.21.1 in /Users/soma/.pyenv/versions/3.10.13/lib/python3.10/site-packages (from requests<3.0.0,>=2.13.0->spacy<3.8.0,>=3.7.0->ja-core-news-trf==3.7.2) (1.26.18)\n",
      "Requirement already satisfied: confection<1.0.0,>=0.0.1 in /Users/soma/.pyenv/versions/3.10.13/lib/python3.10/site-packages (from thinc<8.3.0,>=8.2.2->spacy<3.8.0,>=3.7.0->ja-core-news-trf==3.7.2) (0.1.4)\n",
      "Requirement already satisfied: blis<0.8.0,>=0.7.8 in /Users/soma/.pyenv/versions/3.10.13/lib/python3.10/site-packages (from thinc<8.3.0,>=8.2.2->spacy<3.8.0,>=3.7.0->ja-core-news-trf==3.7.2) (0.7.11)\n",
      "Requirement already satisfied: fsspec in /Users/soma/.pyenv/versions/3.10.13/lib/python3.10/site-packages (from torch>=1.12.0->spacy-curated-transformers<0.3.0,>=0.2.0->ja-core-news-trf==3.7.2) (2024.2.0)\n",
      "Requirement already satisfied: sympy in /Users/soma/.pyenv/versions/3.10.13/lib/python3.10/site-packages (from torch>=1.12.0->spacy-curated-transformers<0.3.0,>=0.2.0->ja-core-news-trf==3.7.2) (1.12)\n",
      "Requirement already satisfied: networkx in /Users/soma/.pyenv/versions/3.10.13/lib/python3.10/site-packages (from torch>=1.12.0->spacy-curated-transformers<0.3.0,>=0.2.0->ja-core-news-trf==3.7.2) (2.8.8)\n",
      "Requirement already satisfied: filelock in /Users/soma/.pyenv/versions/3.10.13/lib/python3.10/site-packages (from torch>=1.12.0->spacy-curated-transformers<0.3.0,>=0.2.0->ja-core-news-trf==3.7.2) (3.13.1)\n",
      "Requirement already satisfied: click<9.0.0,>=7.1.1 in /Users/soma/.pyenv/versions/3.10.13/lib/python3.10/site-packages (from typer<0.10.0,>=0.3.0->spacy<3.8.0,>=3.7.0->ja-core-news-trf==3.7.2) (8.1.7)\n"
     ]
    },
    {
     "name": "stdout",
     "output_type": "stream",
     "text": [
      "Requirement already satisfied: cloudpathlib<0.17.0,>=0.7.0 in /Users/soma/.pyenv/versions/3.10.13/lib/python3.10/site-packages (from weasel<0.4.0,>=0.1.0->spacy<3.8.0,>=3.7.0->ja-core-news-trf==3.7.2) (0.16.0)\n",
      "Requirement already satisfied: MarkupSafe>=2.0 in /Users/soma/.pyenv/versions/3.10.13/lib/python3.10/site-packages (from jinja2->spacy<3.8.0,>=3.7.0->ja-core-news-trf==3.7.2) (2.1.5)\n",
      "Requirement already satisfied: mpmath>=0.19 in /Users/soma/.pyenv/versions/3.10.13/lib/python3.10/site-packages (from sympy->torch>=1.12.0->spacy-curated-transformers<0.3.0,>=0.2.0->ja-core-news-trf==3.7.2) (1.3.0)\n",
      "Installing collected packages: curated-tokenizers, curated-transformers, spacy-curated-transformers, ja-core-news-trf\n",
      "Successfully installed curated-tokenizers-0.0.9 curated-transformers-0.1.1 ja-core-news-trf-3.7.2 spacy-curated-transformers-0.2.2\n",
      "\n",
      "\u001b[1m[\u001b[0m\u001b[34;49mnotice\u001b[0m\u001b[1;39;49m]\u001b[0m\u001b[39;49m A new release of pip is available: \u001b[0m\u001b[31;49m23.0.1\u001b[0m\u001b[39;49m -> \u001b[0m\u001b[32;49m24.2\u001b[0m\n",
      "\u001b[1m[\u001b[0m\u001b[34;49mnotice\u001b[0m\u001b[1;39;49m]\u001b[0m\u001b[39;49m To update, run: \u001b[0m\u001b[32;49mpip install --upgrade pip\u001b[0m\n",
      "\u001b[38;5;2m\u2714 Download and installation successful\u001b[0m\n",
      "You can now load the package via spacy.load('ja_core_news_trf')\n"
     ]
    }
   ],
   "source": [
    "!python -m spacy download ja_core_news_trf"
   ]
  },
  {
   "cell_type": "code",
   "execution_count": null,
   "id": "d2e71fde",
   "metadata": {},
   "outputs": [],
   "source": [
    "import ja_core_news_trf\n",
    "nlp = ja_core_news_trf.load()\n",
    "\n",
    "doc = nlp(\"\u3053\u308c\u306f\u6587\u7ae0\u3067\u3059\u3002\")\n",
    "\n",
    "print([(w.text, w.pos_) for w in doc])"
   ]
  }
 ],
 "metadata": {
  "kernelspec": {
   "display_name": "Python 3 (ipykernel)",
   "language": "python",
   "name": "python3"
  },
  "language_info": {
   "codemirror_mode": {
    "name": "ipython",
    "version": 3
   },
   "file_extension": ".py",
   "mimetype": "text/x-python",
   "name": "python",
   "nbconvert_exporter": "python",
   "pygments_lexer": "ipython3",
   "version": "3.10.13"
  },
  "workshop": {
   "title": "AI Text Analysis with Japanese NLP",
   "description": "Using spaCy and transformers for Japanese text processing",
   "order": 1,
   "data_files": [
    "pdfs/*.pdf",
    "single-chart.pdf",
    "single-chart.png"
   ]
  }
 },
 "nbformat": 4,
 "nbformat_minor": 5
}