{
 "cells": [
  {
   "cell_type": "code",
   "metadata": {},
   "source": [
    "# Install required packages in Codespaces\n",
    "%pip install --quiet pandas requests matplotlib altair\n"
   ],
   "execution_count": null,
   "outputs": []
  },
  {
   "cell_type": "markdown",
   "metadata": {},
   "source": [
    "# Rakuten Seiyu - undocumented APIs\n",
    "\n",
    "Some website secretly use APIs to get information. You can [find the APIs](https://inspectelement.org/apis.html#tutorial) and use them for yourself!\n",
    "\n",
    "As an example, let's find the prices of vegetables from [Rakuten Seiyu](https://sm.rakuten.co.jp/search/110000?l-id=_leftnavi_110000&sort=1), which is *not* part of the Rakuten API."
   ]
  },
  {
   "cell_type": "code",
   "execution_count": null,
   "metadata": {},
   "outputs": [],
   "source": [
    "import requests\n",
    "\n",
    "response = requests.get(\"https://sm.rakuten.co.jp/api/search/v1/items?type=parts&hit=20&sort=1&category_code=110000&operation=ranking&_=1726788252230\")\n",
    "data = response.json()\n",
    "data"
   ]
  },
  {
   "cell_type": "code",
   "execution_count": null,
   "metadata": {},
   "outputs": [],
   "source": [
    "import pandas as pd\n",
    "\n",
    "df = pd.json_normalize(data['ranking_list'])\n",
    "df"
   ]
  },
  {
   "cell_type": "markdown",
   "metadata": {},
   "source": [
    "## What if we want more?\n",
    "\n",
    "Our API request only returned 20 items... what if we want more? Can we see anything in the URL that might help us?"
   ]
  },
  {
   "cell_type": "code",
   "execution_count": null,
   "metadata": {},
   "outputs": [],
   "source": [
    "import requests\n",
    "import pandas as pd\n",
    "\n",
    "response = requests.get(\"https://sm.rakuten.co.jp/api/search/v1/items?type=parts&hit=100&sort=1&category_code=110000&operation=ranking&_=1726788252230\")\n",
    "data = response.json()\n",
    "\n",
    "df = pd.json_normalize(data['ranking_list'])\n",
    "df"
   ]
  },
  {
   "cell_type": "markdown",
   "metadata": {},
   "source": []
  }
 ],
 "metadata": {
  "kernelspec": {
   "display_name": "Python 3",
   "language": "python",
   "name": "python3"
  },
  "language_info": {
   "codemirror_mode": {
    "name": "ipython",
    "version": 3
   },
   "file_extension": ".py",
   "mimetype": "text/x-python",
   "name": "python",
   "nbconvert_exporter": "python",
   "pygments_lexer": "ipython3",
   "version": "3.10.13"
  },
  "workshop": {
   "description": "Finding and using undocumented APIs",
   "title": "Undocumented APIs"
  }
 },
 "nbformat": 4,
 "nbformat_minor": 2
}