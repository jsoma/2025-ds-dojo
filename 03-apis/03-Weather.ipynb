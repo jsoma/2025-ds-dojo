{
 "cells": [
  {
   "cell_type": "markdown",
   "metadata": {},
   "source": [
    "# Weather API\n",
    "\n",
    "We can now look at the weather API from [WeatherAPI](https://www.weatherapi.com/). It requires an **API key**, so you will have to sign up.\n",
    "\n",
    "- [API documentation](https://www.weatherapi.com/docs/)\n",
    "- [Interactive API explorer](https://www.weatherapi.com/api-explorer.aspx)"
   ]
  },
  {
   "cell_type": "code",
   "execution_count": null,
   "metadata": {},
   "outputs": [],
   "source": [
    "import requests\n",
    "\n",
    "# I replaced my API key with XXXX\n",
    "response = requests.get(\"https://api.weatherapi.com/v1/forecast.json?key=XXXX&q=London&days=3&aqi=no&alerts=no\")\n",
    "data = response.json()\n",
    "data"
   ]
  },
  {
   "cell_type": "code",
   "execution_count": null,
   "metadata": {},
   "outputs": [],
   "source": [
    "import pandas as pd\n",
    "\n",
    "# No limit to number of columns\n",
    "pd.options.display.max_columns = None\n",
    "\n",
    "df = pd.json_normalize(data)\n",
    "df"
   ]
  },
  {
   "cell_type": "code",
   "execution_count": null,
   "metadata": {},
   "outputs": [],
   "source": [
    "df.T"
   ]
  },
  {
   "cell_type": "code",
   "execution_count": null,
   "metadata": {},
   "outputs": [],
   "source": [
    "df = pd.json_normalize(data['forecast']['forecastday'])\n",
    "df"
   ]
  },
  {
   "cell_type": "code",
   "execution_count": null,
   "metadata": {},
   "outputs": [],
   "source": []
  }
 ],
 "metadata": {
  "kernelspec": {
   "display_name": "Python 3",
   "language": "python",
   "name": "python3"
  },
  "language_info": {
   "codemirror_mode": {
    "name": "ipython",
    "version": 3
   },
   "file_extension": ".py",
   "mimetype": "text/x-python",
   "name": "python",
   "nbconvert_exporter": "python",
   "pygments_lexer": "ipython3",
   "version": "3.10.13"
  },
  "workshop": {
   "description": "Getting weather data from APIs",
   "title": "Weather API"
  }
 },
 "nbformat": 4,
 "nbformat_minor": 2
}
