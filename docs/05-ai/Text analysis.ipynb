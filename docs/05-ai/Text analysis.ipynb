{
 "cells": [
  {
   "cell_type": "code",
   "metadata": {},
   "source": [
    "# Install required packages\n",
    "!pip install --upgrade --quiet pandas\n",
    "!pip install --upgrade --quiet natural_pdf\n",
    "!pip install --upgrade --quiet tqdm\n",
    "\n",
    "import os\n",
    "import urllib.request\n",
    "import zipfile\n",
    "\n",
    "# Download and extract data files\n",
    "url = 'https://github.com/jsoma/2025-ds-dojo/raw/main/docs/05-ai/Text analysis-data.zip'\n",
    "print(f'Downloading data from {url}...')\n",
    "urllib.request.urlretrieve(url, 'Text analysis-data.zip')\n",
    "\n",
    "print('Extracting Text analysis-data.zip...')\n",
    "with zipfile.ZipFile('Text analysis-data.zip', 'r') as zip_ref:\n",
    "    zip_ref.extractall('.')\n",
    "\n",
    "os.remove('Text analysis-data.zip')\n",
    "print('\u2713 Data files extracted!')"
   ],
   "execution_count": null,
   "outputs": []
  },
  {
   "cell_type": "code",
   "execution_count": null,
   "id": "04b43bed",
   "metadata": {},
   "outputs": [],
   "source": [
    "!pip install --quiet spacy"
   ]
  },
  {
   "cell_type": "code",
   "execution_count": null,
   "id": "1cb44803",
   "metadata": {},
   "outputs": [],
   "source": [
    "!python -m spacy download ja_core_news_trf"
   ]
  },
  {
   "cell_type": "code",
   "execution_count": null,
   "id": "d2e71fde",
   "metadata": {},
   "outputs": [],
   "source": [
    "import ja_core_news_trf\n",
    "nlp = ja_core_news_trf.load()\n",
    "\n",
    "doc = nlp(\"\u3053\u308c\u306f\u6587\u7ae0\u3067\u3059\u3002\")\n",
    "\n",
    "print([(w.text, w.pos_) for w in doc])"
   ]
  }
 ],
 "metadata": {
  "kernelspec": {
   "display_name": "Python 3",
   "language": "python",
   "name": "python3"
  },
  "language_info": {
   "codemirror_mode": {
    "name": "ipython",
    "version": 3
   },
   "file_extension": ".py",
   "mimetype": "text/x-python",
   "name": "python",
   "nbconvert_exporter": "python",
   "pygments_lexer": "ipython3",
   "version": "3.10.13"
  },
  "workshop": {
   "title": "AI Text Analysis with Japanese NLP",
   "description": "Using spaCy and transformers for Japanese text processing",
   "order": 1,
   "data_files": [
    "pdfs/*.pdf",
    "single-chart.pdf",
    "single-chart.png"
   ]
  }
 },
 "nbformat": 4,
 "nbformat_minor": 5
}