{
 "cells": [
  {
   "cell_type": "code",
   "metadata": {},
   "source": [
    "# Download and extract data files\n",
    "import os\n",
    "import urllib.request\n",
    "import zipfile\n",
    "\n",
    "url = 'https://github.com/jsoma/2025-ds-dojo/raw/main/docs/02-pandas/02-estats-pandas-data.zip'\n",
    "print(f'Downloading data from {url}...')\n",
    "urllib.request.urlretrieve(url, '02-estats-pandas-data.zip')\n",
    "\n",
    "print('Extracting 02-estats-pandas-data.zip...')\n",
    "with zipfile.ZipFile('02-estats-pandas-data.zip', 'r') as zip_ref:\n",
    "    zip_ref.extractall('.')\n",
    "\n",
    "os.remove('02-estats-pandas-data.zip')\n",
    "print('\u2713 Data files extracted!')"
   ],
   "execution_count": null,
   "outputs": []
  },
  {
   "cell_type": "code",
   "metadata": {},
   "source": [],
   "execution_count": null,
   "outputs": []
  },
  {
   "cell_type": "code",
   "metadata": {},
   "source": [],
   "execution_count": null,
   "outputs": []
  },
  {
   "cell_type": "markdown",
   "id": "27944aba",
   "metadata": {},
   "source": [
    "Check the data types. What's wrong with the **Total population** columns?"
   ]
  },
  {
   "cell_type": "code",
   "metadata": {},
   "source": [],
   "execution_count": null,
   "outputs": []
  },
  {
   "cell_type": "markdown",
   "id": "2806516f",
   "metadata": {},
   "source": [
    "It's because the columns are `2,924,000`. How can we correct that? There are two ways \u2013 the best approach involves fixing it while you're reading in the data."
   ]
  },
  {
   "cell_type": "code",
   "metadata": {},
   "source": [],
   "execution_count": null,
   "outputs": []
  },
  {
   "cell_type": "markdown",
   "id": "82849053",
   "metadata": {},
   "source": [
    "The long column name of `A1302_Total population (15-64)[person]` is awkward and difficult to type, so let's rename the columns to be:\n",
    "\n",
    "- `pop_15-64`\n",
    "- `pop_65-over`"
   ]
  },
  {
   "cell_type": "code",
   "metadata": {},
   "source": [],
   "execution_count": null,
   "outputs": []
  },
  {
   "cell_type": "markdown",
   "id": "158ae39a",
   "metadata": {},
   "source": [
    "What prefecture has the largest number of 65+ population?"
   ]
  },
  {
   "cell_type": "code",
   "metadata": {},
   "source": [],
   "execution_count": null,
   "outputs": []
  },
  {
   "cell_type": "markdown",
   "id": "f05471cb",
   "metadata": {},
   "source": [
    "Let's only look at **2019 data**. Filter your dataset for 2019, and confirm it has 47 rows."
   ]
  },
  {
   "cell_type": "code",
   "metadata": {},
   "source": [],
   "execution_count": null,
   "outputs": []
  },
  {
   "cell_type": "markdown",
   "id": "5930bde4",
   "metadata": {},
   "source": [
    "Now find the prefecture with the largest number of 65+ population."
   ]
  },
  {
   "cell_type": "code",
   "metadata": {},
   "source": [],
   "execution_count": null,
   "outputs": []
  },
  {
   "cell_type": "markdown",
   "id": "956378b9",
   "metadata": {},
   "source": [
    "Tokyo is just *big*, though, so we should probably adjust this to be **based on percentage**.\n",
    "\n",
    "Create a new column called `total` that is the total population."
   ]
  },
  {
   "cell_type": "code",
   "metadata": {},
   "source": [],
   "execution_count": null,
   "outputs": []
  },
  {
   "cell_type": "markdown",
   "id": "fc3a29eb",
   "metadata": {},
   "source": [
    "Create two new columns for the percentage of the prefecture that is 15-64 and 65 and over. Name them `pct_15-64` and `pct_65-over`. \n",
    "\n",
    "> It's fine to keep the percentage as 0.0-1.0, but you can make it 0-100 if you'd really like!"
   ]
  },
  {
   "cell_type": "code",
   "metadata": {},
   "source": [],
   "execution_count": null,
   "outputs": []
  },
  {
   "cell_type": "markdown",
   "id": "1c3a945b",
   "metadata": {},
   "source": [
    "What prefecture has the highest population of 65+ population?"
   ]
  },
  {
   "cell_type": "code",
   "metadata": {},
   "source": [],
   "execution_count": null,
   "outputs": []
  },
  {
   "cell_type": "markdown",
   "id": "e3235438",
   "metadata": {},
   "source": [
    "Let's make a **graph** of the percentage of each prefecture that is 65 and over."
   ]
  },
  {
   "cell_type": "code",
   "metadata": {},
   "source": [],
   "execution_count": null,
   "outputs": []
  },
  {
   "cell_type": "markdown",
   "id": "a4a6a288",
   "metadata": {},
   "source": [
    "Save the dataframe as `population-with-totals.csv`. **Check the file after you save it to make sure it doesn't have a weird empty column.**"
   ]
  },
  {
   "cell_type": "code",
   "metadata": {},
   "source": [],
   "execution_count": null,
   "outputs": []
  },
  {
   "cell_type": "markdown",
   "id": "49af1a8a",
   "metadata": {},
   "source": [
    "## Bonus: Prefecture names in kana\n",
    "\n",
    "Right now the content is **only in romaji**. It would be nice to have it in kana instead! I've created `prefecture_names.csv` with a mapping between the two.\n",
    "\n",
    "Try to read it in: there's a issue you'll need to solve before it will work! You probably want to call it `df_pref`  so it doesn't overwrite your previous dataframe."
   ]
  },
  {
   "cell_type": "code",
   "metadata": {},
   "source": [],
   "execution_count": null,
   "outputs": []
  },
  {
   "cell_type": "markdown",
   "id": "db039c5a",
   "metadata": {},
   "source": [
    "Merge your dataframes together, saving it as `merged`. Then graph again with the `name_jp` column."
   ]
  },
  {
   "cell_type": "code",
   "metadata": {},
   "source": [],
   "execution_count": null,
   "outputs": []
  },
  {
   "cell_type": "markdown",
   "id": "0c03a631",
   "metadata": {},
   "source": [
    "The plot might not work because it uses non-Latin characters! You'll need to find a font that works."
   ]
  },
  {
   "cell_type": "code",
   "metadata": {},
   "source": [],
   "execution_count": null,
   "outputs": []
  },
  {
   "cell_type": "markdown",
   "id": "66b76667",
   "metadata": {},
   "source": [
    "Maybe you'll need to list fonts?"
   ]
  },
  {
   "cell_type": "code",
   "metadata": {},
   "source": [],
   "execution_count": null,
   "outputs": []
  },
  {
   "cell_type": "markdown",
   "id": "9450253e",
   "metadata": {},
   "source": [
    "## Bonus: Interactive visualization\n",
    "\n",
    "Read in the file again. In one cell, be sure to:\n",
    "\n",
    "- Take care of the thousands, making sure the population is read in as numbers\n",
    "- Rename the columns as we did above\n",
    "- Create the `total` column\n",
    "- Create the percentage columns\n",
    "\n",
    "But this time we will NOT remove the pre-2022 data."
   ]
  },
  {
   "cell_type": "code",
   "execution_count": null,
   "id": "68c874c6",
   "metadata": {},
   "outputs": [],
   "source": [
    "df = pd.read_csv(\"estat-population.csv\", thousands=',')\n",
    "\n",
    "df = df.rename(columns={\n",
    "    'A1302_Total population (15-64)[person]': 'pop_15-64',\n",
    "    'A1303_Total population (65 and over)[person]': 'pop_65-over'\n",
    "})\n",
    "\n",
    "df['total'] = df['pop_15-64'] + df['pop_65-over']\n",
    "df['pct_15-64'] = df['pop_15-64'] / df['total']\n",
    "df['pct_65-over'] = df['pop_65-over'] / df['total']\n",
    "\n",
    "df.head()"
   ]
  },
  {
   "cell_type": "markdown",
   "id": "b4ecf87a",
   "metadata": {},
   "source": [
    "Confirm you have 2,256 rows."
   ]
  },
  {
   "cell_type": "code",
   "execution_count": null,
   "id": "0e50936f",
   "metadata": {},
   "outputs": [],
   "source": [
    "df.shape"
   ]
  },
  {
   "cell_type": "markdown",
   "id": "d5623bbc",
   "metadata": {},
   "source": [
    "Use ChatGPT to create a graphic to show you each prefecture's population over time. **On Thursday we will look at what the best approach to visualizing this data might be.**"
   ]
  },
  {
   "cell_type": "code",
   "execution_count": null,
   "id": "4758038e",
   "metadata": {},
   "outputs": [],
   "source": [
    "import altair as alt\n",
    "\n",
    "alt.Chart(df).mark_line().encode(\n",
    "    x='YEAR:O',  # Treat YEAR as ordinal for line plot\n",
    "    y='pct_65-over:Q',  # Quantitative for percentage\n",
    "    color='AREA:N',  # Color by AREA (categorical)\n",
    "    tooltip=['AREA', 'YEAR', 'pct_65-over']  # Tooltip to show details on hover\n",
    ").properties(\n",
    "    title='Percentage of Population 65+ by Area Over Time'\n",
    ").interactive()  # Enable zoom and pan"
   ]
  },
  {
   "cell_type": "code",
   "execution_count": null,
   "id": "7048b4d2",
   "metadata": {},
   "outputs": [],
   "source": [
    "highlight = alt.selection_single(\n",
    "    fields=['AREA'],  # Selection is based on AREA\n",
    "    nearest=True,  # Select the nearest line to the hover\n",
    "    on='mouseover',  # Selection activates on hover\n",
    "    empty='none'  # If no line is hovered, nothing is selected\n",
    ")\n",
    "\n",
    "base = alt.Chart(df).mark_line().encode(\n",
    "    x='YEAR:O',\n",
    "    y='pct_65-over:Q',\n",
    "    color=alt.condition(highlight, 'AREA:N', alt.value('lightgray')),  # Highlight hovered line\n",
    "    size=alt.condition(highlight, alt.value(3), alt.value(1)),  # Thicker line for the highlighted area\n",
    "    tooltip=['AREA', 'YEAR', 'pct_65-over']\n",
    ")\n",
    "\n",
    "# Add points to make the hover interaction easier\n",
    "points = base.mark_point().encode(\n",
    "    opacity=alt.value(0)  # Invisible points, only for interaction purposes\n",
    ").add_selection(\n",
    "    highlight\n",
    ")\n",
    "\n",
    "# Combine the lines and points\n",
    "chart = (base + points).properties(\n",
    "    title='Percentage of Population 65+ by Area Over Time'\n",
    ").interactive()\n",
    "\n",
    "# Show the chart\n",
    "chart"
   ]
  },
  {
   "cell_type": "code",
   "execution_count": null,
   "id": "706cd3e1",
   "metadata": {},
   "outputs": [],
   "source": [
    "base = alt.Chart(df).mark_line().encode(\n",
    "    x='YEAR:O',\n",
    "    y='pct_65-over:Q',\n",
    "    tooltip=['AREA', 'YEAR', 'pct_65-over']\n",
    ").properties(\n",
    "    width=150,  # Set the width of each chart\n",
    "    height=100  # Set the height of each chart\n",
    ")\n",
    "\n",
    "# Facet the chart into a grid where each AREA gets its own subplot\n",
    "grid = base.facet(\n",
    "    facet='AREA:N',  # Facet by AREA (each AREA gets a chart)\n",
    "    columns=4  # Specify the number of columns in the grid\n",
    ").properties(\n",
    "    title='Percentage of Population 65+ by Area Over Time'\n",
    ")  # Interactive zoom and pan\n",
    "\n",
    "# Show the chart\n",
    "grid\n"
   ]
  },
  {
   "cell_type": "code",
   "execution_count": null,
   "id": "16cbe2df",
   "metadata": {},
   "outputs": [],
   "source": [
    "df['pct_change'] = df.groupby('AREA')['pct_65-over'].pct_change()  # Calculate percentage change"
   ]
  },
  {
   "cell_type": "code",
   "execution_count": null,
   "id": "8c373ce1",
   "metadata": {},
   "outputs": [],
   "source": [
    "base = alt.Chart(df).mark_line().encode(\n",
    "    x='YEAR:O',\n",
    "    y='pct_change:Q',  # Use pct_change instead of pct_65-over\n",
    "    tooltip=['AREA', 'YEAR', 'pct_change']\n",
    ").properties(\n",
    "    width=150,  # Set the width of each chart\n",
    "    height=100  # Set the height of each chart\n",
    ")\n",
    "\n",
    "# Facet the chart into a grid where each AREA gets its own subplot\n",
    "grid = base.facet(\n",
    "    facet='AREA:N',  # Facet by AREA (each AREA gets a chart)\n",
    "    columns=4  # Specify the number of columns in the grid\n",
    ").properties(\n",
    "    title='Percentage of Population 65+ by Area Over Time'\n",
    ")  # Interactive zoom and pan\n",
    "\n",
    "# Show the chart\n",
    "grid"
   ]
  },
  {
   "cell_type": "code",
   "execution_count": null,
   "id": "e995ab15",
   "metadata": {},
   "outputs": [],
   "source": []
  }
 ],
 "metadata": {
  "kernelspec": {
   "display_name": "Python 3",
   "language": "python",
   "name": "python3"
  },
  "language_info": {
   "codemirror_mode": {
    "name": "ipython",
    "version": 3
   },
   "file_extension": ".py",
   "mimetype": "text/x-python",
   "name": "python",
   "nbconvert_exporter": "python",
   "pygments_lexer": "ipython3",
   "version": "3.10.13"
  },
  "workshop": {
   "data_files": [
    "estat-population.csv",
    "prefecture_names.csv"
   ],
   "description": "Working with Japanese government statistics",
   "title": "E-Stat Data Analysis"
  }
 },
 "nbformat": 4,
 "nbformat_minor": 5
}