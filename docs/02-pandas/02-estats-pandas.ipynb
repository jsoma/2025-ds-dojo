{
 "cells": [
  {
   "cell_type": "code",
   "metadata": {},
   "source": [
    "# Install required packages\n",
    "%pip install --upgrade --quiet pandas\n",
    "%pip install --upgrade --quiet natural_pdf\n",
    "%pip install --upgrade --quiet tqdm\n"
   ],
   "execution_count": null,
   "outputs": []
  },
  {
   "cell_type": "code",
   "metadata": {},
   "source": [
    "# Download and extract data files\n",
    "import os\n",
    "import urllib.request\n",
    "import zipfile\n",
    "\n",
    "url = 'https://github.com/jsoma/2025-ds-dojo/raw/main/docs/02-pandas/02-estats-pandas-data.zip'\n",
    "print(f'Downloading data from {url}...')\n",
    "urllib.request.urlretrieve(url, '02-estats-pandas-data.zip')\n",
    "\n",
    "print('Extracting 02-estats-pandas-data.zip...')\n",
    "with zipfile.ZipFile('02-estats-pandas-data.zip', 'r') as zip_ref:\n",
    "    zip_ref.extractall('.')\n",
    "\n",
    "os.remove('02-estats-pandas-data.zip')\n",
    "print('\u2713 Data files extracted!')"
   ],
   "execution_count": null,
   "outputs": []
  },
  {
   "cell_type": "code",
   "metadata": {},
   "source": [],
   "execution_count": null,
   "outputs": []
  },
  {
   "cell_type": "code",
   "metadata": {},
   "source": [],
   "execution_count": null,
   "outputs": []
  },
  {
   "cell_type": "markdown",
   "id": "27944aba",
   "metadata": {},
   "source": [
    "Check the data types. What's wrong with the **Total population** columns?"
   ]
  },
  {
   "cell_type": "code",
   "metadata": {},
   "source": [],
   "execution_count": null,
   "outputs": []
  },
  {
   "cell_type": "markdown",
   "id": "2806516f",
   "metadata": {},
   "source": [
    "It's because the columns are `2,924,000`. How can we correct that? There are two ways \u2013 the best approach involves fixing it while you're reading in the data."
   ]
  },
  {
   "cell_type": "code",
   "metadata": {},
   "source": [],
   "execution_count": null,
   "outputs": []
  },
  {
   "cell_type": "markdown",
   "id": "82849053",
   "metadata": {},
   "source": [
    "The long column name of `A1302_Total population (15-64)[person]` is awkward and difficult to type, so let's rename the columns to be:\n",
    "\n",
    "- `pop_15-64`\n",
    "- `pop_65-over`"
   ]
  },
  {
   "cell_type": "code",
   "metadata": {},
   "source": [],
   "execution_count": null,
   "outputs": []
  },
  {
   "cell_type": "markdown",
   "id": "158ae39a",
   "metadata": {},
   "source": [
    "What prefecture has the largest number of 65+ population?"
   ]
  },
  {
   "cell_type": "code",
   "metadata": {},
   "source": [],
   "execution_count": null,
   "outputs": []
  },
  {
   "cell_type": "markdown",
   "id": "f05471cb",
   "metadata": {},
   "source": [
    "Let's only look at **2019 data**. Filter your dataset for 2019, and confirm it has 47 rows."
   ]
  },
  {
   "cell_type": "code",
   "metadata": {},
   "source": [],
   "execution_count": null,
   "outputs": []
  },
  {
   "cell_type": "markdown",
   "id": "5930bde4",
   "metadata": {},
   "source": [
    "Now find the prefecture with the largest number of 65+ population."
   ]
  },
  {
   "cell_type": "code",
   "metadata": {},
   "source": [],
   "execution_count": null,
   "outputs": []
  },
  {
   "cell_type": "markdown",
   "id": "956378b9",
   "metadata": {},
   "source": [
    "Tokyo is just *big*, though, so we should probably adjust this to be **based on percentage**.\n",
    "\n",
    "Create a new column called `total` that is the total population."
   ]
  },
  {
   "cell_type": "code",
   "metadata": {},
   "source": [],
   "execution_count": null,
   "outputs": []
  },
  {
   "cell_type": "markdown",
   "id": "fc3a29eb",
   "metadata": {},
   "source": [
    "Create two new columns for the percentage of the prefecture that is 15-64 and 65 and over. Name them `pct_15-64` and `pct_65-over`. \n",
    "\n",
    "> It's fine to keep the percentage as 0.0-1.0, but you can make it 0-100 if you'd really like!"
   ]
  },
  {
   "cell_type": "code",
   "metadata": {},
   "source": [],
   "execution_count": null,
   "outputs": []
  },
  {
   "cell_type": "markdown",
   "id": "1c3a945b",
   "metadata": {},
   "source": [
    "What prefecture has the highest population of 65+ population?"
   ]
  },
  {
   "cell_type": "code",
   "metadata": {},
   "source": [],
   "execution_count": null,
   "outputs": []
  },
  {
   "cell_type": "code",
   "metadata": {},
   "source": [],
   "execution_count": null,
   "outputs": []
  },
  {
   "cell_type": "markdown",
   "id": "a4a6a288",
   "metadata": {},
   "source": [
    "Save the dataframe as `population-with-totals.csv`. **Check the file after you save it to make sure it doesn't have a weird empty column.**"
   ]
  },
  {
   "cell_type": "code",
   "metadata": {},
   "source": [],
   "execution_count": null,
   "outputs": []
  },
  {
   "cell_type": "markdown",
   "id": "49af1a8a",
   "metadata": {},
   "source": [
    "## Bonus: Prefecture names in kana\n",
    "\n",
    "Right now the content is **only in romaji**. It would be nice to have it in kana instead! I've created `prefecture_names.csv` with a mapping between the two.\n",
    "\n",
    "Try to read it in: there's a issue you'll need to solve before it will work! You probably want to call it `df_pref`  so it doesn't overwrite your previous dataframe."
   ]
  },
  {
   "cell_type": "code",
   "metadata": {},
   "source": [],
   "execution_count": null,
   "outputs": []
  },
  {
   "cell_type": "markdown",
   "id": "db039c5a",
   "metadata": {},
   "source": [
    "Merge your dataframes together, saving it as `merged`. Then graph again with the `name_jp` column."
   ]
  },
  {
   "cell_type": "code",
   "metadata": {},
   "source": [],
   "execution_count": null,
   "outputs": []
  },
  {
   "cell_type": "markdown",
   "id": "0c03a631",
   "metadata": {},
   "source": [
    "The plot might not work because it uses non-Latin characters! You'll need to find a font that works."
   ]
  },
  {
   "cell_type": "code",
   "metadata": {},
   "source": [],
   "execution_count": null,
   "outputs": []
  },
  {
   "cell_type": "markdown",
   "id": "66b76667",
   "metadata": {},
   "source": [
    "Maybe you'll need to list fonts?"
   ]
  },
  {
   "cell_type": "code",
   "metadata": {},
   "source": [],
   "execution_count": null,
   "outputs": []
  },
  {
   "cell_type": "markdown",
   "id": "9450253e",
   "metadata": {},
   "source": [
    "## Bonus: Interactive visualization\n",
    "\n",
    "Read in the file again. In one cell, be sure to:\n",
    "\n",
    "- Take care of the thousands, making sure the population is read in as numbers\n",
    "- Rename the columns as we did above\n",
    "- Create the `total` column\n",
    "- Create the percentage columns\n",
    "\n",
    "But this time we will NOT remove the pre-2022 data."
   ]
  },
  {
   "cell_type": "code",
   "metadata": {},
   "source": [],
   "execution_count": null,
   "outputs": []
  },
  {
   "cell_type": "markdown",
   "id": "b4ecf87a",
   "metadata": {},
   "source": [
    "Confirm you have 2,256 rows."
   ]
  },
  {
   "cell_type": "code",
   "metadata": {},
   "source": [],
   "execution_count": null,
   "outputs": []
  },
  {
   "cell_type": "markdown",
   "id": "d5623bbc",
   "metadata": {},
   "source": [
    "Use ChatGPT to create a graphic to show you each prefecture's population over time. **On Thursday we will look at what the best approach to visualizing this data might be.**"
   ]
  },
  {
   "cell_type": "code",
   "metadata": {},
   "source": [],
   "execution_count": null,
   "outputs": []
  },
  {
   "cell_type": "code",
   "metadata": {},
   "source": [],
   "execution_count": null,
   "outputs": []
  },
  {
   "cell_type": "code",
   "metadata": {},
   "source": [],
   "execution_count": null,
   "outputs": []
  },
  {
   "cell_type": "code",
   "metadata": {},
   "source": [],
   "execution_count": null,
   "outputs": []
  },
  {
   "cell_type": "code",
   "metadata": {},
   "source": [],
   "execution_count": null,
   "outputs": []
  },
  {
   "cell_type": "code",
   "execution_count": null,
   "id": "e995ab15",
   "metadata": {},
   "outputs": [],
   "source": []
  }
 ],
 "metadata": {
  "kernelspec": {
   "display_name": "Python 3",
   "language": "python",
   "name": "python3"
  },
  "language_info": {
   "codemirror_mode": {
    "name": "ipython",
    "version": 3
   },
   "file_extension": ".py",
   "mimetype": "text/x-python",
   "name": "python",
   "nbconvert_exporter": "python",
   "pygments_lexer": "ipython3",
   "version": "3.10.13"
  },
  "workshop": {
   "title": "E-Stat Data Analysis",
   "description": "Working with Japanese government statistics",
   "data_files": [
    "estat-population.csv",
    "prefecture_names.csv"
   ]
  }
 },
 "nbformat": 4,
 "nbformat_minor": 5
}