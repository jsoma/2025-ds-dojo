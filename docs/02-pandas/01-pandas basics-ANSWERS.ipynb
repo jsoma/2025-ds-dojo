{
 "cells": [
  {
   "cell_type": "code",
   "metadata": {},
   "source": [
    "# Download and extract data files\n",
    "import os\n",
    "import urllib.request\n",
    "import zipfile\n",
    "\n",
    "url = 'https://github.com/jsoma/2025-ds-dojo/raw/main/docs/02-pandas/01-pandas%20basics-data.zip'\n",
    "print(f'Downloading data from {url}...')\n",
    "urllib.request.urlretrieve(url, '01-pandas basics-data.zip')\n",
    "\n",
    "print('Extracting 01-pandas basics-data.zip...')\n",
    "with zipfile.ZipFile('01-pandas basics-data.zip', 'r') as zip_ref:\n",
    "    zip_ref.extractall('.')\n",
    "\n",
    "os.remove('01-pandas basics-data.zip')\n",
    "print('\u2713 Data files extracted!')"
   ],
   "execution_count": null,
   "outputs": []
  },
  {
   "cell_type": "markdown",
   "id": "c8e1cb81-6b9e-4e41-abfb-03bb410afbd9",
   "metadata": {},
   "source": [
    "# Pandas basics\n",
    "\n",
    "We'll start by opening `countries.csv`."
   ]
  },
  {
   "cell_type": "code",
   "execution_count": 1,
   "id": "6dbc56f9",
   "metadata": {
    "tags": [
     "solution"
    ]
   },
   "outputs": [
    {
     "data": {
      "text/html": [
       "<div>\n",
       "<style scoped>\n",
       "    .dataframe tbody tr th:only-of-type {\n",
       "        vertical-align: middle;\n",
       "    }\n",
       "\n",
       "    .dataframe tbody tr th {\n",
       "        vertical-align: top;\n",
       "    }\n",
       "\n",
       "    .dataframe thead th {\n",
       "        text-align: right;\n",
       "    }\n",
       "</style>\n",
       "<table border=\"1\" class=\"dataframe\">\n",
       "  <thead>\n",
       "    <tr style=\"text-align: right;\">\n",
       "      <th></th>\n",
       "      <th>country</th>\n",
       "      <th>continent</th>\n",
       "      <th>life_expectancy</th>\n",
       "      <th>gdp</th>\n",
       "    </tr>\n",
       "  </thead>\n",
       "  <tbody>\n",
       "    <tr>\n",
       "      <th>0</th>\n",
       "      <td>Afghanistan</td>\n",
       "      <td>Asia</td>\n",
       "      <td>54.863</td>\n",
       "      <td>15153728226</td>\n",
       "    </tr>\n",
       "    <tr>\n",
       "      <th>1</th>\n",
       "      <td>Albania</td>\n",
       "      <td>Europe</td>\n",
       "      <td>74.200</td>\n",
       "      <td>12886435920</td>\n",
       "    </tr>\n",
       "    <tr>\n",
       "      <th>2</th>\n",
       "      <td>Algeria</td>\n",
       "      <td>Africa</td>\n",
       "      <td>68.963</td>\n",
       "      <td>155661450046</td>\n",
       "    </tr>\n",
       "    <tr>\n",
       "      <th>3</th>\n",
       "      <td>Angola</td>\n",
       "      <td>Africa</td>\n",
       "      <td>45.234</td>\n",
       "      <td>34063908358</td>\n",
       "    </tr>\n",
       "    <tr>\n",
       "      <th>4</th>\n",
       "      <td>Antigua and Barbuda</td>\n",
       "      <td>N. America</td>\n",
       "      <td>73.544</td>\n",
       "      <td>989182128</td>\n",
       "    </tr>\n",
       "  </tbody>\n",
       "</table>\n",
       "</div>"
      ],
      "text/plain": [
       "               country   continent  life_expectancy           gdp\n",
       "0          Afghanistan        Asia           54.863   15153728226\n",
       "1              Albania      Europe           74.200   12886435920\n",
       "2              Algeria      Africa           68.963  155661450046\n",
       "3               Angola      Africa           45.234   34063908358\n",
       "4  Antigua and Barbuda  N. America           73.544     989182128"
      ]
     },
     "execution_count": 1,
     "metadata": {},
     "output_type": "execute_result"
    }
   ],
   "source": [
    "import pandas as pd\n",
    "\n",
    "df = pd.read_csv(\"countries.csv\")\n",
    "df.head()"
   ]
  },
  {
   "cell_type": "code",
   "execution_count": 2,
   "id": "b379dc6d",
   "metadata": {
    "tags": [
     "solution"
    ]
   },
   "outputs": [
    {
     "data": {
      "text/plain": [
       "(188, 4)"
      ]
     },
     "execution_count": 2,
     "metadata": {},
     "output_type": "execute_result"
    }
   ],
   "source": [
    "# How many rows/columns?\n",
    "df.shape"
   ]
  },
  {
   "cell_type": "code",
   "execution_count": null,
   "id": "69dc1d55",
   "metadata": {},
   "outputs": [],
   "source": []
  },
  {
   "cell_type": "markdown",
   "id": "a974b095",
   "metadata": {},
   "source": [
    "## What questions could you ask this dataset?\n",
    "\n",
    "Make a list in a Markdown cell of things you want to know (do you remember how to do this?). Then paste it into [this form](https://docs.google.com/forms/d/e/1FAIpQLScK_mtoa2BYpyYOFdBH0OChXt0qf8g1d5YUUZlbu2-a1xl6tw/viewform?usp=sf_link) so I know what we want to know."
   ]
  },
  {
   "cell_type": "markdown",
   "id": "a6fce724",
   "metadata": {},
   "source": []
  },
  {
   "cell_type": "markdown",
   "id": "631a1a3e",
   "metadata": {},
   "source": [
    "## Now, let's answer them"
   ]
  },
  {
   "cell_type": "code",
   "execution_count": null,
   "id": "a27e1c1b",
   "metadata": {},
   "outputs": [],
   "source": []
  }
 ],
 "metadata": {
  "kernelspec": {
   "display_name": "Python 3",
   "language": "python",
   "name": "python3"
  },
  "language_info": {
   "codemirror_mode": {
    "name": "ipython",
    "version": 3
   },
   "file_extension": ".py",
   "mimetype": "text/x-python",
   "name": "python",
   "nbconvert_exporter": "python",
   "pygments_lexer": "ipython3",
   "version": "3.10.13"
  },
  "workshop": {
   "data_files": [
    "countries.csv"
   ],
   "description": "Introduction to pandas DataFrames",
   "title": "Pandas Basics"
  }
 },
 "nbformat": 4,
 "nbformat_minor": 5
}