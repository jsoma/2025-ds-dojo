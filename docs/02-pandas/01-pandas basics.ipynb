{
 "cells": [
  {
   "cell_type": "code",
   "metadata": {},
   "source": [
    "# Install required packages\n",
    "%pip install --upgrade --quiet pandas\n"
   ],
   "execution_count": null,
   "outputs": []
  },
  {
   "cell_type": "code",
   "metadata": {},
   "source": [
    "# Download and extract data files\n",
    "import os\n",
    "import urllib.request\n",
    "import zipfile\n",
    "\n",
    "url = 'https://github.com/jsoma/2025-ds-dojo/raw/main/docs/02-pandas/01-pandas%20basics-data.zip'\n",
    "print(f'Downloading data from {url}...')\n",
    "urllib.request.urlretrieve(url, '01-pandas basics-data.zip')\n",
    "\n",
    "print('Extracting 01-pandas basics-data.zip...')\n",
    "with zipfile.ZipFile('01-pandas basics-data.zip', 'r') as zip_ref:\n",
    "    zip_ref.extractall('.')\n",
    "\n",
    "os.remove('01-pandas basics-data.zip')\n",
    "print('\u2713 Data files extracted!')"
   ],
   "execution_count": null,
   "outputs": []
  },
  {
   "cell_type": "markdown",
   "id": "c8e1cb81-6b9e-4e41-abfb-03bb410afbd9",
   "metadata": {},
   "source": [
    "# Pandas basics\n",
    "\n",
    "We'll start by opening `countries.csv`."
   ]
  },
  {
   "cell_type": "code",
   "metadata": {},
   "source": [],
   "execution_count": null,
   "outputs": []
  },
  {
   "cell_type": "code",
   "metadata": {},
   "source": [],
   "execution_count": null,
   "outputs": []
  },
  {
   "cell_type": "code",
   "execution_count": null,
   "id": "69dc1d55",
   "metadata": {},
   "outputs": [],
   "source": []
  },
  {
   "cell_type": "markdown",
   "id": "a974b095",
   "metadata": {},
   "source": [
    "## What questions could you ask this dataset?\n",
    "\n",
    "Make a list in a Markdown cell of things you want to know (do you remember how to do this?). Then paste it into [this form](https://docs.google.com/forms/d/e/1FAIpQLScK_mtoa2BYpyYOFdBH0OChXt0qf8g1d5YUUZlbu2-a1xl6tw/viewform?usp=sf_link) so I know what we want to know."
   ]
  },
  {
   "cell_type": "markdown",
   "id": "a6fce724",
   "metadata": {},
   "source": []
  },
  {
   "cell_type": "markdown",
   "id": "631a1a3e",
   "metadata": {},
   "source": [
    "## Now, let's answer them"
   ]
  },
  {
   "cell_type": "code",
   "execution_count": null,
   "id": "a27e1c1b",
   "metadata": {},
   "outputs": [],
   "source": []
  }
 ],
 "metadata": {
  "kernelspec": {
   "display_name": "Python 3",
   "language": "python",
   "name": "python3"
  },
  "language_info": {
   "codemirror_mode": {
    "name": "ipython",
    "version": 3
   },
   "file_extension": ".py",
   "mimetype": "text/x-python",
   "name": "python",
   "nbconvert_exporter": "python",
   "pygments_lexer": "ipython3",
   "version": "3.10.13"
  },
  "workshop": {
   "data_files": [
    "countries.csv"
   ],
   "description": "Introduction to pandas DataFrames",
   "title": "Pandas Basics",
   "packages": [
    "pandas"
   ],
   "install": [
    "pandas"
   ]
  }
 },
 "nbformat": 4,
 "nbformat_minor": 5
}