{
 "cells": [
  {
   "cell_type": "markdown",
   "id": "0feef0ca",
   "metadata": {},
   "source": [
    "# Japanese data cleaning\n",
    "\n",
    "## SUUMO properties"
   ]
  },
  {
   "cell_type": "code",
   "execution_count": null,
   "id": "fdcde0ef",
   "metadata": {},
   "outputs": [],
   "source": [
    "import pandas as pd\n",
    "\n",
    "df = pd.read_csv(\"suumo-properties.csv\")\n",
    "df.head()"
   ]
  },
  {
   "cell_type": "markdown",
   "id": "f1c4e1b8",
   "metadata": {},
   "source": [
    "How much is the rent?"
   ]
  },
  {
   "cell_type": "code",
   "execution_count": null,
   "id": "ada118dd",
   "metadata": {},
   "outputs": [],
   "source": [
    "df['cleaned_rent'] = df['Rent'].str.replace(\"万円\", \"\").astype(float)\n",
    "df['cleaned_rent'].describe()"
   ]
  },
  {
   "cell_type": "markdown",
   "id": "230fe7d9",
   "metadata": {},
   "source": [
    "How large are these properties?"
   ]
  },
  {
   "cell_type": "code",
   "execution_count": null,
   "id": "833e8c1a",
   "metadata": {},
   "outputs": [],
   "source": [
    "df['cleaned_area'] = df['Area Size'].str.replace(\"m2\", \"\").astype(float)\n",
    "df.head()"
   ]
  },
  {
   "cell_type": "markdown",
   "id": "03104f0e",
   "metadata": {},
   "source": [
    "What is the relationship between size and rent?"
   ]
  },
  {
   "cell_type": "code",
   "execution_count": null,
   "id": "93188252",
   "metadata": {},
   "outputs": [],
   "source": [
    "df.plot(kind='scatter', x='cleaned_area', y='cleaned_rent')"
   ]
  },
  {
   "cell_type": "code",
   "execution_count": null,
   "id": "8fd8dbc1",
   "metadata": {},
   "outputs": [],
   "source": [
    "df[['cleaned_area', 'cleaned_rent']].corr()"
   ]
  },
  {
   "cell_type": "markdown",
   "id": "cf39d19c",
   "metadata": {},
   "source": [
    "What direction do they face?"
   ]
  },
  {
   "cell_type": "code",
   "execution_count": null,
   "id": "5a1baaad",
   "metadata": {},
   "outputs": [],
   "source": [
    "df['Direction'].value_counts()"
   ]
  },
  {
   "cell_type": "markdown",
   "id": "46939856",
   "metadata": {},
   "source": [
    "What does the floor plan look like?"
   ]
  },
  {
   "cell_type": "code",
   "execution_count": null,
   "id": "e7c3bca3",
   "metadata": {},
   "outputs": [],
   "source": [
    "df['Floor Plan'].value_counts()"
   ]
  },
  {
   "cell_type": "markdown",
   "id": "b5f1b5f4",
   "metadata": {},
   "source": [
    "Which ones have living rooms?"
   ]
  },
  {
   "cell_type": "code",
   "execution_count": null,
   "id": "579bc3b3",
   "metadata": {},
   "outputs": [],
   "source": [
    "df[df['Floor Plan'].str.contains(\"L\")]"
   ]
  },
  {
   "cell_type": "markdown",
   "id": "7fa5aa00",
   "metadata": {},
   "source": [
    "Extract the number of bedrooms"
   ]
  },
  {
   "cell_type": "code",
   "execution_count": null,
   "id": "e9ddf577",
   "metadata": {},
   "outputs": [],
   "source": [
    "df['Floor Plan'] = df['Floor Plan'].replace(\"ワンルーム\", '1')\n",
    "df['Floor Plan'].value_counts()"
   ]
  },
  {
   "cell_type": "code",
   "execution_count": null,
   "id": "ceca69b6",
   "metadata": {},
   "outputs": [],
   "source": [
    "df['bedrooms'] = df['Floor Plan'].str[0].astype(int)\n",
    "df.head()"
   ]
  },
  {
   "cell_type": "markdown",
   "id": "ba3a57b6",
   "metadata": {},
   "source": [
    "How far are they from each station?"
   ]
  },
  {
   "cell_type": "code",
   "execution_count": null,
   "id": "b471f80c",
   "metadata": {},
   "outputs": [],
   "source": [
    "df['Station Info'].iloc[0]"
   ]
  },
  {
   "cell_type": "code",
   "execution_count": null,
   "id": "d21bfc27",
   "metadata": {},
   "outputs": [],
   "source": [
    "df['station_distance'] = df['Station Info'].str.findall(\"(.*) 歩(.*)分\")\n",
    "df.head().to_clipboard()"
   ]
  },
  {
   "cell_type": "code",
   "execution_count": null,
   "id": "b1a0d2e6",
   "metadata": {},
   "outputs": [],
   "source": [
    "for i, row in df.iterrows():\n",
    "    for station, minutes in row['station_distance']:\n",
    "        df.at[i, station] = int(minutes)"
   ]
  },
  {
   "cell_type": "code",
   "execution_count": null,
   "id": "d148246f",
   "metadata": {},
   "outputs": [],
   "source": [
    "pd.options.display.max_columns = None\n",
    "\n",
    "df"
   ]
  },
  {
   "cell_type": "markdown",
   "id": "3e341e20",
   "metadata": {},
   "source": [
    "# Mercari products"
   ]
  },
  {
   "cell_type": "code",
   "execution_count": null,
   "id": "2118bd87",
   "metadata": {},
   "outputs": [],
   "source": [
    "import pandas as pd\n",
    "\n",
    "df = pd.read_csv(\"mercari-subset.csv\")\n",
    "df.head()"
   ]
  },
  {
   "cell_type": "markdown",
   "id": "4974c15c",
   "metadata": {},
   "source": [
    "## Install everything to use Instructor"
   ]
  },
  {
   "cell_type": "code",
   "execution_count": null,
   "id": "475fb4a2",
   "metadata": {},
   "outputs": [],
   "source": [
    "%pip install --quiet --upgrade instructor openai tqdm pydantic"
   ]
  },
  {
   "cell_type": "markdown",
   "id": "bed11b14",
   "metadata": {},
   "source": [
    "## Set things up"
   ]
  },
  {
   "cell_type": "code",
   "execution_count": null,
   "id": "c2e027fe",
   "metadata": {},
   "outputs": [],
   "source": [
    "import instructor\n",
    "from pydantic import BaseModel, Field, field_validator\n",
    "from openai import OpenAI\n",
    "from typing import Optional, List\n",
    "from typing_extensions import Literal\n",
    "import re\n",
    "from tqdm.auto import tqdm\n",
    "\n",
    "# Allow a progress bar\n",
    "tqdm.pandas()\n",
    "# Connect to ChatGPT\n",
    "client = instructor.from_openai(OpenAI(api_key='sk-proj-XXXXX'))"
   ]
  },
  {
   "cell_type": "markdown",
   "id": "1830813d",
   "metadata": {},
   "source": [
    "### Extracting data from a user comment"
   ]
  },
  {
   "cell_type": "code",
   "execution_count": null,
   "id": "cc52f563",
   "metadata": {},
   "outputs": [],
   "source": [
    "comment = \"\"\"\n",
    "I am very angry about the broccoli incident, I am never shopping at your \n",
    "store again. Take me off of your broccoli mailing list immediately.\n",
    "\n",
    "Jackary Baloneynose\n",
    "jackary.baloney@example.com\n",
    "\"\"\""
   ]
  },
  {
   "cell_type": "code",
   "execution_count": null,
   "id": "6aa1e6d8",
   "metadata": {},
   "outputs": [],
   "source": [
    "class Comment(BaseModel):\n",
    "    name: str = Field(description=\"Customer name\")\n",
    "    email: str = Field(description=\"Customer email\")\n",
    "    food: str = Field(description=\"Food item\")\n",
    "    date: Optional[str] = Field(description=\"Comment date, if known, in format YYYY-MM-DD\")\n",
    "    sentiment: Literal[\"positive\", \"negative\", \"unknown\"] = Field(description=\"Comment sentiment\")"
   ]
  },
  {
   "cell_type": "code",
   "execution_count": null,
   "id": "501ebd43",
   "metadata": {},
   "outputs": [],
   "source": [
    "result = client.chat.completions.create(\n",
    "    model=\"gpt-4o-mini\",\n",
    "    response_model=Comment,\n",
    "    messages=[\n",
    "        {\"role\": \"user\", \"content\": comment}\n",
    "    ],\n",
    "    temperature=0,\n",
    "    max_retries=3\n",
    ")\n",
    "\n",
    "result.model_dump()"
   ]
  },
  {
   "cell_type": "markdown",
   "id": "b05d1e2d",
   "metadata": {},
   "source": [
    "### Extracting data similar to our dataset "
   ]
  },
  {
   "cell_type": "code",
   "execution_count": null,
   "id": "4ba2dedf",
   "metadata": {},
   "outputs": [],
   "source": [
    "product = \"\"\"\n",
    "YAMAHA DTXTREME モジュール　電子ドラム (2)の画像 21,500円\n",
    "\"\"\""
   ]
  },
  {
   "cell_type": "code",
   "execution_count": null,
   "id": "0a43bf9a",
   "metadata": {},
   "outputs": [],
   "source": [
    "class Product(BaseModel):\n",
    "    name: str = Field(description=\"Product name\")\n",
    "    brand: str = Field(description=\"Product brand\")\n",
    "    instrument_type: str = Field(description=\"Instrument type\")\n",
    "    product_code: str = Field(description=\"Model number\")\n",
    "    instrument_category: Literal[\"brass\", \"string\", \"electronic\", \"percussion/drum\", \"piano/keyboard\", \"other\"] = Field(description=\"Type of instrument\")"
   ]
  },
  {
   "cell_type": "code",
   "execution_count": null,
   "id": "3abcb166",
   "metadata": {},
   "outputs": [],
   "source": [
    "result = client.chat.completions.create(\n",
    "    model=\"gpt-4o-mini\",\n",
    "    response_model=Product,\n",
    "    messages=[\n",
    "        {\"role\": \"user\", \"content\": product}\n",
    "    ],\n",
    "    temperature=0,\n",
    "    max_retries=3\n",
    ")\n",
    "\n",
    "result.model_dump()"
   ]
  },
  {
   "cell_type": "markdown",
   "id": "71ee820d",
   "metadata": {},
   "source": [
    "## Extracting from our dataframe"
   ]
  },
  {
   "cell_type": "code",
   "execution_count": null,
   "id": "a48adfd6",
   "metadata": {},
   "outputs": [],
   "source": [
    "import pandas as pd\n",
    "\n",
    "df = pd.read_csv(\"mercari-subset.csv\", thousands=',')\n",
    "df.head()"
   ]
  },
  {
   "cell_type": "code",
   "execution_count": null,
   "id": "2d175d4b",
   "metadata": {},
   "outputs": [],
   "source": [
    "import time\n",
    "\n",
    "def get_details(row):\n",
    "    time.sleep(1) # Wait one second\n",
    "    product = row['Product Name']\n",
    "\n",
    "    result = client.chat.completions.create(\n",
    "        model=\"gpt-4o-mini\",\n",
    "        response_model=Product,\n",
    "        messages=[\n",
    "            {\"role\": \"user\", \"content\": product}\n",
    "        ],\n",
    "        temperature=0,\n",
    "        max_retries=3\n",
    "    )\n",
    "    \n",
    "    return result.model_dump()\n",
    "\n",
    "details = df.progress_apply(get_details, axis=1)\n",
    "details"
   ]
  },
  {
   "cell_type": "code",
   "execution_count": null,
   "id": "6b84256a",
   "metadata": {},
   "outputs": [],
   "source": [
    "details_df = pd.json_normalize(details)\n",
    "details_df"
   ]
  },
  {
   "cell_type": "code",
   "execution_count": null,
   "id": "05ae882d",
   "metadata": {},
   "outputs": [],
   "source": [
    "merged = df.join(details_df)\n",
    "merged.head()"
   ]
  },
  {
   "cell_type": "code",
   "execution_count": null,
   "id": "5217594d",
   "metadata": {},
   "outputs": [],
   "source": [
    "merged['brand'].value_counts()"
   ]
  },
  {
   "cell_type": "code",
   "execution_count": null,
   "id": "62285052",
   "metadata": {},
   "outputs": [],
   "source": []
  }
 ],
 "metadata": {
  "kernelspec": {
   "display_name": "Python 3",
   "language": "python",
   "name": "python3"
  },
  "language_info": {
   "codemirror_mode": {
    "name": "ipython",
    "version": 3
   },
   "file_extension": ".py",
   "mimetype": "text/x-python",
   "name": "python",
   "nbconvert_exporter": "python",
   "pygments_lexer": "ipython3",
   "version": "3.10.13"
  },
  "workshop": {
   "description": "Completed version with solutions",
   "order": 6,
   "title": "Japanese Data Cleaning - Solutions"
  }
 },
 "nbformat": 4,
 "nbformat_minor": 5
}
