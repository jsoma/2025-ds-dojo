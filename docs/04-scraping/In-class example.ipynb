{
 "cells": [
  {
   "cell_type": "code",
   "execution_count": null,
   "id": "0ec04c0b",
   "metadata": {},
   "outputs": [],
   "source": [
    "!playwright codegen"
   ]
  },
  {
   "cell_type": "code",
   "execution_count": null,
   "id": "f0e46d09",
   "metadata": {},
   "outputs": [],
   "source": [
    "from playwright.async_api import async_playwright\n",
    "from bs4 import BeautifulSoup\n",
    "import pandas as pd\n",
    "\n",
    "# Open the browser and start scraping\n",
    "playwright = await async_playwright().start()\n",
    "browser = await playwright.chromium.launch(headless=False)\n",
    "context = await browser.new_context()\n",
    "page = await context.new_page()\n",
    "\n",
    "# Go to the first page\n",
    "await page.goto(\"https://jp.mercari.com/search?category_id=72\")\n",
    "\n",
    "all_data = []\n",
    "\n",
    "while True:\n",
    "    # Wait for the items to load on the page\n",
    "    await page.wait_for_selector(\"li[data-testid='item-cell']\")\n",
    "    \n",
    "    # Get the page content and parse it with BeautifulSoup\n",
    "    html = await page.content()\n",
    "    soup = BeautifulSoup(html, 'html.parser')\n",
    "    \n",
    "    # Find all product listings\n",
    "    items = soup.find_all('li', {'data-testid': 'item-cell'})\n",
    "    \n",
    "    for item in items:\n",
    "        try:\n",
    "            # Safely extract the product name, product link, image URL, and price\n",
    "            product_name_div = item.find('div', role='img')\n",
    "            product_name = product_name_div['aria-label'] if product_name_div else 'N/A'\n",
    "\n",
    "            product_link_tag = item.find('a')\n",
    "            product_link = \"https://jp.mercari.com\" + product_link_tag['href'] if product_link_tag else 'N/A'\n",
    "\n",
    "            image_tag = item.find('img')\n",
    "            image_url = image_tag['src'] if image_tag else 'N/A'\n",
    "\n",
    "            price_span = item.find('span', class_='number__6b270ca7')\n",
    "            price = price_span.text if price_span else 'N/A'\n",
    "\n",
    "            # Add this product's data to our list\n",
    "            all_data.append({\n",
    "                'Product Name': product_name,\n",
    "                'Product URL': product_link,\n",
    "                'Image URL': image_url,\n",
    "                'Price': price\n",
    "            })\n",
    "        except Exception as e:\n",
    "            print(f\"Error processing item: {e}\")\n",
    "\n",
    "    # Try to click the \"Next Page\" button\n",
    "    try:\n",
    "        await page.locator(\"a:has-text('\u6b21\u3078')\").click(timeout=10000)\n",
    "    except Exception as e:\n",
    "        print(\"No more pages or error occurred:\", e)\n",
    "        break  # Exit the loop if there's no next page or error occurs\n",
    "\n",
    "# Close the browser\n",
    "await context.close()\n",
    "await browser.close()\n",
    "\n"
   ]
  },
  {
   "cell_type": "code",
   "execution_count": null,
   "id": "e178042c",
   "metadata": {},
   "outputs": [],
   "source": [
    "# Convert the collected data into a pandas DataFrame\n",
    "df = pd.DataFrame(all_data)\n",
    "\n",
    "# Display the first few rows of the dataframe\n",
    "df.head()"
   ]
  },
  {
   "cell_type": "code",
   "execution_count": null,
   "id": "b65f246f",
   "metadata": {},
   "outputs": [],
   "source": [
    "df.shape"
   ]
  },
  {
   "cell_type": "code",
   "execution_count": null,
   "id": "3d68ecc7",
   "metadata": {},
   "outputs": [],
   "source": []
  }
 ],
 "metadata": {
  "kernelspec": {
   "display_name": "Python 3",
   "language": "python",
   "name": "python3"
  },
  "language_info": {
   "codemirror_mode": {
    "name": "ipython",
    "version": 3
   },
   "file_extension": ".py",
   "mimetype": "text/x-python",
   "name": "python",
   "nbconvert_exporter": "python",
   "pygments_lexer": "ipython3",
   "version": "3.10.13"
  },
  "workshop": {
   "title": "Live Scraping Example",
   "description": "In-class demonstration of web scraping techniques",
   "order": 5
  }
 },
 "nbformat": 4,
 "nbformat_minor": 5
}