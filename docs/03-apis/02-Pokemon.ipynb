{
 "cells": [
  {
   "cell_type": "code",
   "metadata": {},
   "source": [
    "# Install required packages\n",
    "%pip install --upgrade --quiet pandas\n",
    "%pip install --upgrade --quiet requests\n"
   ],
   "execution_count": null,
   "outputs": []
  },
  {
   "cell_type": "markdown",
   "metadata": {},
   "source": [
    "# Pokemon API\n",
    "\n",
    "We'll now look at the [Pokeapi.co Pokemon API](https://pokeapi.co/). Documentation is available [here](https://pokeapi.co/docs/v2).\n",
    "\n",
    "## Getting information about Snorlax"
   ]
  },
  {
   "cell_type": "code",
   "execution_count": null,
   "metadata": {},
   "outputs": [],
   "source": [
    "import requests\n",
    "\n",
    "response = requests.get(\"https://pokeapi.co/api/v2/pokemon/snorlax\")\n",
    "data = response.json()\n",
    "data"
   ]
  },
  {
   "cell_type": "code",
   "execution_count": null,
   "metadata": {},
   "outputs": [],
   "source": [
    "import pandas as pd\n",
    "pd.options.display.max_columns = None\n",
    "\n",
    "df = pd.json_normalize(data)\n",
    "df.head()"
   ]
  },
  {
   "cell_type": "code",
   "execution_count": null,
   "metadata": {},
   "outputs": [],
   "source": [
    "import pandas as pd\n",
    "\n",
    "df = pd.json_normalize(data['moves'])\n",
    "df.head()"
   ]
  },
  {
   "cell_type": "code",
   "execution_count": null,
   "metadata": {},
   "outputs": [],
   "source": [
    "df = pd.json_normalize(data['abilities'])\n",
    "df.head()"
   ]
  },
  {
   "cell_type": "code",
   "execution_count": null,
   "metadata": {},
   "outputs": [],
   "source": [
    "df = pd.json_normalize(data['stats'])\n",
    "df.head()"
   ]
  },
  {
   "cell_type": "markdown",
   "metadata": {},
   "source": [
    "## Getting information about all pokemon\n",
    "\n",
    "[This endpoint](https://pokeapi.co/docs/v2#pokemon) looks like it's about all pokemon."
   ]
  },
  {
   "cell_type": "code",
   "metadata": {},
   "source": [],
   "execution_count": null,
   "outputs": []
  },
  {
   "cell_type": "code",
   "metadata": {},
   "source": [],
   "execution_count": null,
   "outputs": []
  },
  {
   "cell_type": "markdown",
   "metadata": {},
   "source": [
    "But how do we add all of the extra columns? Maybe we can [ask ChatGPT if it has any ideas](https://chatgpt.com/share/66f1f2ca-e03c-800d-b2d2-a72cd483f8b7)."
   ]
  },
  {
   "cell_type": "code",
   "metadata": {},
   "source": [],
   "execution_count": null,
   "outputs": []
  },
  {
   "cell_type": "code",
   "execution_count": null,
   "metadata": {},
   "outputs": [],
   "source": []
  }
 ],
 "metadata": {
  "kernelspec": {
   "display_name": "Python 3",
   "language": "python",
   "name": "python3"
  },
  "language_info": {
   "codemirror_mode": {
    "name": "ipython",
    "version": 3
   },
   "file_extension": ".py",
   "mimetype": "text/x-python",
   "name": "python",
   "nbconvert_exporter": "python",
   "pygments_lexer": "ipython3",
   "version": "3.10.13"
  },
  "workshop": {
   "description": "Practice with a fun API",
   "title": "Pokemon API",
   "packages": [
    "pandas",
    "requests"
   ],
   "install": [
    "pandas",
    "requests"
   ]
  }
 },
 "nbformat": 4,
 "nbformat_minor": 2
}