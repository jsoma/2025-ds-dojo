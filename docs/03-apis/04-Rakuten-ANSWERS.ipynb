{
 "cells": [
  {
   "cell_type": "code",
   "metadata": {},
   "source": [
    "# Install required packages\n",
    "%pip install --upgrade --quiet pandas\n",
    "%pip install --upgrade --quiet requests\n",
    "%pip install --upgrade --quiet matplotlib\n",
    "%pip install --upgrade --quiet altair\n"
   ],
   "execution_count": null,
   "outputs": []
  },
  {
   "cell_type": "markdown",
   "metadata": {},
   "source": [
    "# Rakuten API\n",
    "\n",
    "The Rakuten API is pretty difficult to use! Take a look at [their documentation](https://webservice.rakuten.co.jp/guide#howToDevelop), but also I recommend signing up and looking at their [API test form](https://webservice.rakuten.co.jp/explorer/api/IchibaItem/Search)"
   ]
  },
  {
   "cell_type": "code",
   "execution_count": null,
   "metadata": {},
   "outputs": [],
   "source": [
    "import requests\n",
    "\n",
    "response = requests.get(\"https://app.rakuten.co.jp/services/api/IchibaItem/Search/20220601?format=json&genreId=565724&tagId=1008043&applicationId=XXXXXX\")\n",
    "response.text"
   ]
  },
  {
   "cell_type": "code",
   "execution_count": null,
   "metadata": {},
   "outputs": [],
   "source": [
    "# I replaced my API key with XXXX\n",
    "url = \"https://app.rakuten.co.jp/services/api/IchibaItem/Search/20220601?format=json&genreId=565724&tagId=1008043&applicationId=XXXXXX\"\n",
    "response = requests.get(url)\n",
    "data = response.json()\n",
    "data.keys()"
   ]
  },
  {
   "cell_type": "code",
   "execution_count": null,
   "metadata": {},
   "outputs": [],
   "source": [
    "import pandas as pd\n",
    "\n",
    "df = pd.json_normalize(data['Items'])\n",
    "df"
   ]
  },
  {
   "cell_type": "code",
   "execution_count": null,
   "metadata": {},
   "outputs": [],
   "source": []
  }
 ],
 "metadata": {
  "kernelspec": {
   "display_name": "Python 3",
   "language": "python",
   "name": "python3"
  },
  "language_info": {
   "codemirror_mode": {
    "name": "ipython",
    "version": 3
   },
   "file_extension": ".py",
   "mimetype": "text/x-python",
   "name": "python",
   "nbconvert_exporter": "python",
   "pygments_lexer": "ipython3",
   "version": "3.10.13"
  },
  "workshop": {
   "description": "Using Japanese e-commerce APIs",
   "title": "Rakuten API",
   "packages": [
    "pandas",
    "requests",
    "matplotlib",
    "altair"
   ],
   "install": [
    "pandas",
    "requests",
    "matplotlib",
    "altair"
   ]
  }
 },
 "nbformat": 4,
 "nbformat_minor": 2
}