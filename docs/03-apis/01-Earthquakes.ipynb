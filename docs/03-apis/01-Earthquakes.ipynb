{
 "cells": [
  {
   "cell_type": "markdown",
   "metadata": {},
   "source": [
    "# Earthquakes API\n",
    "\n",
    "We'll start by looking at the [USGS Earthquake Catalog API](https://earthquake.usgs.gov/fdsnws/event/1/).\n",
    "\n",
    "Our main goal in life is to **not** have to use \"real\" Python programming for the API, but instead we want to use pandas.\n",
    "\n",
    "If you need help, you can find our ChatGPT prompt examples for working with APIs [right here](https://jsoma.github.io/2024-ds-dojo/apis.html)."
   ]
  },
  {
   "cell_type": "markdown",
   "metadata": {},
   "source": [
    "## Getting the data\n",
    "\n",
    "### Make a request to the \"endpoint\""
   ]
  },
  {
   "cell_type": "code",
   "execution_count": null,
   "metadata": {},
   "outputs": [],
   "source": [
    "import requests\n",
    "\n",
    "response = requests.get(\"https://earthquake.usgs.gov/fdsnws/event/1/query?format=geojson&starttime=2014-01-01&endtime=2014-01-02\")"
   ]
  },
  {
   "cell_type": "markdown",
   "metadata": {},
   "source": [
    "### Look at the result, turn it into Python data"
   ]
  },
  {
   "cell_type": "code",
   "execution_count": null,
   "metadata": {},
   "outputs": [],
   "source": [
    "data = response.json()\n",
    "data"
   ]
  },
  {
   "cell_type": "code",
   "execution_count": null,
   "metadata": {},
   "outputs": [],
   "source": [
    "data.keys()"
   ]
  },
  {
   "cell_type": "code",
   "execution_count": null,
   "metadata": {},
   "outputs": [],
   "source": [
    "data['features']"
   ]
  },
  {
   "cell_type": "markdown",
   "metadata": {},
   "source": [
    "## Convert it into a dataframe"
   ]
  },
  {
   "cell_type": "code",
   "execution_count": null,
   "metadata": {},
   "outputs": [],
   "source": [
    "import pandas as pd\n",
    "\n",
    "df = pd.json_normalize(data)\n",
    "df.head()"
   ]
  },
  {
   "cell_type": "code",
   "execution_count": null,
   "metadata": {},
   "outputs": [],
   "source": [
    "import pandas as pd\n",
    "\n",
    "df = pd.json_normalize(data['features'])\n",
    "df.head()"
   ]
  },
  {
   "cell_type": "markdown",
   "metadata": {},
   "source": [
    "## Ask for help from ChatGPT\n",
    "\n",
    "### Describe the data\n",
    "\n",
    "```py\n",
    "def describe_data(data):\n",
    "    if isinstance(data, dict):\n",
    "        return {key: describe_data(value) for key, value in data.items()}\n",
    "    elif isinstance(data, list) and data:\n",
    "        return [describe_data(data[0])]\n",
    "    else:\n",
    "        return type(data)\n",
    "\n",
    "describe_data(data)\n",
    "```\n",
    "\n",
    "### Question prompt\n",
    "\n",
    "I have API output that is a python dictionary, saved as `data`. The data structure is described as below. Provide code to convert the data into a dataframe of **______**. This probably just means `pd.json_normalize` with the appropriate key. If you need to ask clarifying questions about the data itself, provide code snippets I can run to help answer them. You don't need to use `print` since I'm in a Jupyter notebook. Use functions only if absolutely necessary.\n",
    "\n",
    "(paste description)\n",
    "\n",
    "### Now we try\n",
    "\n",
    "Do it yourself, or you can see [my chat here](https://chatgpt.com/share/66f1ea7b-ae70-800d-b637-d15109ac54f2)"
   ]
  },
  {
   "cell_type": "code",
   "execution_count": null,
   "metadata": {},
   "outputs": [],
   "source": [
    "def describe_data(data):\n",
    "    if isinstance(data, dict):\n",
    "        return {key: describe_data(value) for key, value in data.items()}\n",
    "    elif isinstance(data, list) and data:\n",
    "        return [describe_data(data[0])]\n",
    "    else:\n",
    "        return type(data)\n",
    "\n",
    "describe_data(data)\n"
   ]
  },
  {
   "cell_type": "code",
   "execution_count": null,
   "metadata": {},
   "outputs": [],
   "source": [
    "import pandas as pd\n",
    "\n",
    "# Assuming 'data' is the dictionary with your API output\n",
    "df = pd.json_normalize(data['features'], \n",
    "                       record_path=None,\n",
    "                       meta=['id', ['geometry', 'coordinates']],\n",
    "                       meta_prefix='geometry.',\n",
    "                       record_prefix='properties.')\n",
    "df"
   ]
  },
  {
   "cell_type": "code",
   "execution_count": null,
   "metadata": {},
   "outputs": [],
   "source": []
  }
 ],
 "metadata": {
  "kernelspec": {
   "display_name": "Python 3",
   "language": "python",
   "name": "python3"
  },
  "language_info": {
   "codemirror_mode": {
    "name": "ipython",
    "version": 3
   },
   "file_extension": ".py",
   "mimetype": "text/x-python",
   "name": "python",
   "nbconvert_exporter": "python",
   "pygments_lexer": "ipython3",
   "version": "3.10.13"
  },
  "workshop": {
   "title": "Earthquake API",
   "description": "Using the USGS earthquake API"
  }
 },
 "nbformat": 4,
 "nbformat_minor": 2
}