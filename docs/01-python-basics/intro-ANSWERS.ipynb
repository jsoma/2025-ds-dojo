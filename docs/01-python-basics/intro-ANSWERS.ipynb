{
 "metadata": {
  "workshop": {
   "title": "Introduction to Python",
   "description": "Your first Python notebook",
   "order": 1
  },
  "kernelspec": {
   "display_name": "Python 3",
   "language": "python",
   "name": "python3"
  }
 },
 "nbformat": 4,
 "nbformat_minor": 5,
 "cells": [
  {
   "cell_type": "markdown",
   "metadata": {},
   "source": [
    "# Introduction to Python\n",
    "\n",
    "Welcome to Python! Let's start with the traditional first program."
   ]
  },
  {
   "cell_type": "code",
   "metadata": {},
   "source": [
    "# Write code to print 'Hello, World!' below:\n"
   ],
   "execution_count": null,
   "outputs": []
  },
  {
   "cell_type": "code",
   "metadata": {
    "tags": [
     "solution"
    ]
   },
   "source": [
    "# Solution\n",
    "print('Hello, World!')"
   ],
   "execution_count": null,
   "outputs": []
  },
  {
   "cell_type": "markdown",
   "metadata": {},
   "source": [
    "## Variables\n",
    "\n",
    "Now let's create some variables and do basic math."
   ]
  },
  {
   "cell_type": "code",
   "metadata": {},
   "source": [
    "# Create a variable called 'name' with your name\n",
    "# Create a variable called 'age' with your age\n",
    "# Print both variables\n"
   ],
   "execution_count": null,
   "outputs": []
  },
  {
   "cell_type": "code",
   "metadata": {
    "tags": [
     "solution"
    ]
   },
   "source": [
    "# Solution\n",
    "name = 'Alice'\n",
    "age = 25\n",
    "print(f'My name is {name} and I am {age} years old')"
   ],
   "execution_count": null,
   "outputs": []
  }
 ]
}