{
 "cells": [
  {
   "cell_type": "markdown",
   "metadata": {},
   "source": [
    "# Introduction to Python"
   ]
  },
  {
   "cell_type": "code",
   "execution_count": null,
   "id": "2381c41d",
   "metadata": {},
   "outputs": [],
   "source": [
    "# This is a cell in a notebook"
   ]
  }
 ],
 "metadata": {
  "kernelspec": {
   "display_name": "Python 3",
   "language": "python",
   "name": "python3"
  },
  "workshop": {
   "description": "Your first Python notebook",
   "order": 1,
   "title": "Introduction to Python"
  }
 },
 "nbformat": 4,
 "nbformat_minor": 5
}