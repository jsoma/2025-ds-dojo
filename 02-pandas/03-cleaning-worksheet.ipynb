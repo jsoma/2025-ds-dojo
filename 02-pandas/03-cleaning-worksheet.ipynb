{
 "cells": [
  {
   "cell_type": "code",
   "metadata": {},
   "source": [
    "# Install required packages in Codespaces\n",
    "%pip install --quiet pandas\n"
   ],
   "execution_count": null,
   "outputs": []
  },
  {
   "cell_type": "markdown",
   "id": "fbd2f066-e3fb-4aff-be6e-e21c0808e03f",
   "metadata": {},
   "source": [
    "# Tow trucks"
   ]
  },
  {
   "cell_type": "code",
   "metadata": {},
   "source": [],
   "execution_count": null,
   "outputs": []
  },
  {
   "cell_type": "markdown",
   "id": "f899a8f7-23f3-45cd-a26a-851cddaf2d65",
   "metadata": {},
   "source": [
    "## Calculate total number of tow trucks"
   ]
  },
  {
   "cell_type": "code",
   "metadata": {},
   "source": [],
   "execution_count": null,
   "outputs": []
  },
  {
   "cell_type": "code",
   "metadata": {},
   "source": [],
   "execution_count": null,
   "outputs": []
  },
  {
   "cell_type": "code",
   "metadata": {},
   "source": [],
   "execution_count": null,
   "outputs": []
  },
  {
   "cell_type": "code",
   "metadata": {},
   "source": [],
   "execution_count": null,
   "outputs": []
  },
  {
   "cell_type": "markdown",
   "id": "e75ba875-6ca4-4bb1-8397-2ab21bce628a",
   "metadata": {},
   "source": [
    "## Extract the address"
   ]
  },
  {
   "cell_type": "code",
   "metadata": {},
   "source": [],
   "execution_count": null,
   "outputs": []
  },
  {
   "cell_type": "code",
   "metadata": {},
   "source": [],
   "execution_count": null,
   "outputs": []
  },
  {
   "cell_type": "markdown",
   "id": "0b9500eb-2a37-4f75-867a-f0bd0161629b",
   "metadata": {},
   "source": [
    "## Extract the ZIP code"
   ]
  },
  {
   "cell_type": "code",
   "metadata": {},
   "source": [],
   "execution_count": null,
   "outputs": []
  },
  {
   "cell_type": "markdown",
   "id": "ceeb0567-60d2-4117-9feb-602c34467529",
   "metadata": {},
   "source": [
    "# Locksmiths"
   ]
  },
  {
   "cell_type": "code",
   "metadata": {},
   "source": [],
   "execution_count": null,
   "outputs": []
  },
  {
   "cell_type": "markdown",
   "id": "78ffcf92-deb9-4a08-9b1e-71e75ce19101",
   "metadata": {},
   "source": [
    "## Number of employees"
   ]
  },
  {
   "cell_type": "code",
   "metadata": {},
   "source": [],
   "execution_count": null,
   "outputs": []
  },
  {
   "cell_type": "code",
   "metadata": {},
   "source": [],
   "execution_count": null,
   "outputs": []
  },
  {
   "cell_type": "markdown",
   "id": "7556b222-f467-4181-acbe-e70533cec582",
   "metadata": {},
   "source": [
    "## Physical address"
   ]
  },
  {
   "cell_type": "code",
   "metadata": {},
   "source": [],
   "execution_count": null,
   "outputs": []
  },
  {
   "cell_type": "markdown",
   "id": "e98a5cd6-d8db-4af1-aed1-cf10518ce759",
   "metadata": {},
   "source": [
    "## Tow trucks Part 2"
   ]
  },
  {
   "cell_type": "code",
   "metadata": {},
   "source": [],
   "execution_count": null,
   "outputs": []
  },
  {
   "cell_type": "code",
   "metadata": {},
   "source": [],
   "execution_count": null,
   "outputs": []
  },
  {
   "cell_type": "markdown",
   "id": "291d3dce-b31d-4bef-b569-a0e9be89b855",
   "metadata": {},
   "source": [
    "## State table"
   ]
  },
  {
   "cell_type": "code",
   "metadata": {},
   "source": [],
   "execution_count": null,
   "outputs": []
  },
  {
   "cell_type": "code",
   "metadata": {},
   "source": [],
   "execution_count": null,
   "outputs": []
  },
  {
   "cell_type": "code",
   "metadata": {},
   "source": [],
   "execution_count": null,
   "outputs": []
  },
  {
   "cell_type": "markdown",
   "id": "4a9077ed-bcc5-42f5-9ca4-ba3f4c3e9a23",
   "metadata": {},
   "source": [
    "# NEISS"
   ]
  },
  {
   "cell_type": "code",
   "metadata": {},
   "source": [],
   "execution_count": null,
   "outputs": []
  },
  {
   "cell_type": "markdown",
   "id": "8c3c32b0-eeba-4038-a46d-2031ba66a2e0",
   "metadata": {},
   "source": [
    "## Clean up age to build a histogram"
   ]
  },
  {
   "cell_type": "code",
   "metadata": {},
   "source": [],
   "execution_count": null,
   "outputs": []
  },
  {
   "cell_type": "markdown",
   "id": "f06d4585-2d9c-4c34-befc-16a9146186df",
   "metadata": {},
   "source": [
    "## Only look at wall punchers"
   ]
  },
  {
   "cell_type": "code",
   "metadata": {},
   "source": [],
   "execution_count": null,
   "outputs": []
  },
  {
   "cell_type": "markdown",
   "id": "bf519962-6201-4b24-aa42-1263783a38ca",
   "metadata": {},
   "source": [
    "## What did they punch?"
   ]
  },
  {
   "cell_type": "code",
   "metadata": {},
   "source": [],
   "execution_count": null,
   "outputs": []
  },
  {
   "cell_type": "code",
   "metadata": {},
   "source": [],
   "execution_count": null,
   "outputs": []
  },
  {
   "cell_type": "code",
   "execution_count": null,
   "id": "9367a469-a08f-4faa-bcb2-4801cdd2b4f8",
   "metadata": {},
   "outputs": [],
   "source": []
  }
 ],
 "metadata": {
  "kernelspec": {
   "display_name": "Python 3",
   "language": "python",
   "name": "python3"
  },
  "language_info": {
   "codemirror_mode": {
    "name": "ipython",
    "version": 3
   },
   "file_extension": ".py",
   "mimetype": "text/x-python",
   "name": "python",
   "nbconvert_exporter": "python",
   "pygments_lexer": "ipython3",
   "version": "3.10.13"
  },
  "workshop": {
   "data_files": [
    "data cleaning worksheet.xlsx"
   ],
   "description": "Cleaning and transforming messy data",
   "title": "Data Cleaning"
  }
 },
 "nbformat": 4,
 "nbformat_minor": 5
}