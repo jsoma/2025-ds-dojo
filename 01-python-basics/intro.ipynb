{
  "cells": [
    {
      "cell_type": "markdown",
      "metadata": {},
      "source": [
        "# Introduction to Python and Jupyter notebooks"
      ]
    },
    {
      "cell_type": "code",
      "execution_count": null,
      "id": "2381c41d",
      "metadata": {},
      "outputs": [],
      "source": [
        "print(\"Hello world\")"
      ]
    }
  ],
  "metadata": {
    "kernelspec": {
      "display_name": "Python 3",
      "language": "python",
      "name": "python3"
    },
    "workshop": {
      "description": "Your first Python notebook",
      "order": 1,
      "title": "Introduction to Python"
    }
  },
  "nbformat": 4,
  "nbformat_minor": 5
}
